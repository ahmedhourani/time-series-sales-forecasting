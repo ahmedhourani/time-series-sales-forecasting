{
 "cells": [
  {
   "cell_type": "markdown",
   "id": "5b0eb261",
   "metadata": {},
   "source": [
    "### imports"
   ]
  },
  {
   "cell_type": "code",
   "execution_count": 1,
   "id": "f5202ea8",
   "metadata": {},
   "outputs": [],
   "source": [
    "import pandas as pd\n",
    "import numpy as np\n",
    "import matplotlib.pyplot as plt\n",
    "from statsmodels.tsa.stattools import adfuller\n",
    "import pmdarima as pm\n",
    "import sklearn\n",
    "from sklearn.metrics import mean_squared_log_error as msle\n",
    "from sklearn.ensemble import RandomForestRegressor\n",
    "from sklearn.linear_model import LinearRegression, Ridge\n",
    "from sklearn.svm import SVR\n",
    "import scipy\n",
    "from scipy.stats import pearsonr, f_oneway, norm"
   ]
  },
  {
   "cell_type": "code",
   "execution_count": 2,
   "id": "d9564eda",
   "metadata": {},
   "outputs": [],
   "source": [
    "from statsmodels.graphics.tsaplots import plot_acf, plot_pacf\n",
    "from statsmodels.tsa.stattools import acf, pacf\n",
    "from statsmodels.tsa.arima.model import ARIMA"
   ]
  },
  {
   "cell_type": "markdown",
   "id": "ad2e4be5",
   "metadata": {},
   "source": [
    "### read the data"
   ]
  },
  {
   "cell_type": "code",
   "execution_count": 3,
   "id": "154ca9d6",
   "metadata": {},
   "outputs": [],
   "source": [
    "sales = pd.read_csv('train.csv').set_index('date')\n",
    "oil = pd.read_csv('oil.csv')\n",
    "stores = pd.read_csv('stores.csv')\n",
    "holidays = pd.read_csv('holidays_events.csv')"
   ]
  },
  {
   "cell_type": "code",
   "execution_count": 4,
   "id": "89b9d349",
   "metadata": {},
   "outputs": [],
   "source": [
    "# renaming oil price column\n",
    "oil.rename({'dcoilwtico':'oil_price'},axis=1,inplace=True)\n",
    "\n",
    "# change dates to a datetime type\n",
    "sales.index = pd.to_datetime(sales.index)\n",
    "oil['date'] = pd.to_datetime(oil['date'])\n",
    "holidays['date'] = pd.to_datetime(holidays['date'])"
   ]
  },
  {
   "cell_type": "code",
   "execution_count": 5,
   "id": "cb42eeed",
   "metadata": {},
   "outputs": [
    {
     "name": "stdout",
     "output_type": "stream",
     "text": [
      "number of stores in the data: 54\n",
      "start date:  2013-01-01 00:00:00\n",
      "end date:  2017-08-15 00:00:00\n",
      "period: 1687 days\n"
     ]
    }
   ],
   "source": [
    "print('number of stores in the data:', sales['store_nbr'].unique().shape[0])\n",
    "print('start date: ', sales.index.min())\n",
    "print('end date: ', sales.index.max())\n",
    "print('period:', ( sales.index.max() - sales.index.min() ).days, 'days')"
   ]
  },
  {
   "cell_type": "code",
   "execution_count": 6,
   "id": "bd1d0282",
   "metadata": {},
   "outputs": [
    {
     "data": {
      "text/html": [
       "<div>\n",
       "<style scoped>\n",
       "    .dataframe tbody tr th:only-of-type {\n",
       "        vertical-align: middle;\n",
       "    }\n",
       "\n",
       "    .dataframe tbody tr th {\n",
       "        vertical-align: top;\n",
       "    }\n",
       "\n",
       "    .dataframe thead th {\n",
       "        text-align: right;\n",
       "    }\n",
       "</style>\n",
       "<table border=\"1\" class=\"dataframe\">\n",
       "  <thead>\n",
       "    <tr style=\"text-align: right;\">\n",
       "      <th></th>\n",
       "      <th>id</th>\n",
       "      <th>store_nbr</th>\n",
       "      <th>family</th>\n",
       "      <th>sales</th>\n",
       "      <th>onpromotion</th>\n",
       "    </tr>\n",
       "    <tr>\n",
       "      <th>date</th>\n",
       "      <th></th>\n",
       "      <th></th>\n",
       "      <th></th>\n",
       "      <th></th>\n",
       "      <th></th>\n",
       "    </tr>\n",
       "  </thead>\n",
       "  <tbody>\n",
       "    <tr>\n",
       "      <th>2013-01-01</th>\n",
       "      <td>0</td>\n",
       "      <td>1</td>\n",
       "      <td>AUTOMOTIVE</td>\n",
       "      <td>0.0</td>\n",
       "      <td>0</td>\n",
       "    </tr>\n",
       "    <tr>\n",
       "      <th>2013-01-01</th>\n",
       "      <td>1</td>\n",
       "      <td>1</td>\n",
       "      <td>BABY CARE</td>\n",
       "      <td>0.0</td>\n",
       "      <td>0</td>\n",
       "    </tr>\n",
       "    <tr>\n",
       "      <th>2013-01-01</th>\n",
       "      <td>2</td>\n",
       "      <td>1</td>\n",
       "      <td>BEAUTY</td>\n",
       "      <td>0.0</td>\n",
       "      <td>0</td>\n",
       "    </tr>\n",
       "    <tr>\n",
       "      <th>2013-01-01</th>\n",
       "      <td>3</td>\n",
       "      <td>1</td>\n",
       "      <td>BEVERAGES</td>\n",
       "      <td>0.0</td>\n",
       "      <td>0</td>\n",
       "    </tr>\n",
       "    <tr>\n",
       "      <th>2013-01-01</th>\n",
       "      <td>4</td>\n",
       "      <td>1</td>\n",
       "      <td>BOOKS</td>\n",
       "      <td>0.0</td>\n",
       "      <td>0</td>\n",
       "    </tr>\n",
       "  </tbody>\n",
       "</table>\n",
       "</div>"
      ],
      "text/plain": [
       "            id  store_nbr      family  sales  onpromotion\n",
       "date                                                     \n",
       "2013-01-01   0          1  AUTOMOTIVE    0.0            0\n",
       "2013-01-01   1          1   BABY CARE    0.0            0\n",
       "2013-01-01   2          1      BEAUTY    0.0            0\n",
       "2013-01-01   3          1   BEVERAGES    0.0            0\n",
       "2013-01-01   4          1       BOOKS    0.0            0"
      ]
     },
     "execution_count": 6,
     "metadata": {},
     "output_type": "execute_result"
    }
   ],
   "source": [
    "sales.head()"
   ]
  },
  {
   "cell_type": "markdown",
   "id": "a6c0c306",
   "metadata": {},
   "source": [
    "-------------------------------------------------------------------------------\n",
    "get top 5 selling stores"
   ]
  },
  {
   "cell_type": "code",
   "execution_count": 7,
   "id": "dc1169e7",
   "metadata": {},
   "outputs": [
    {
     "data": {
      "text/plain": [
       "store_nbr\n",
       "44    6.208755e+07\n",
       "45    5.449801e+07\n",
       "47    5.094831e+07\n",
       "3     5.048191e+07\n",
       "49    4.342010e+07\n",
       "Name: sales, dtype: float64"
      ]
     },
     "execution_count": 7,
     "metadata": {},
     "output_type": "execute_result"
    }
   ],
   "source": [
    "sales.groupby('store_nbr').sum()['sales'].sort_values(ascending=False).head()"
   ]
  },
  {
   "cell_type": "markdown",
   "id": "a1470c87",
   "metadata": {},
   "source": [
    "to proceed with the forecasting, we'll select sales of store 44 (since it has the most orders). we will also sum all the categories because we want to predict total sales per day in store 44"
   ]
  },
  {
   "cell_type": "code",
   "execution_count": 8,
   "id": "89bca845",
   "metadata": {},
   "outputs": [
    {
     "data": {
      "text/html": [
       "<div>\n",
       "<style scoped>\n",
       "    .dataframe tbody tr th:only-of-type {\n",
       "        vertical-align: middle;\n",
       "    }\n",
       "\n",
       "    .dataframe tbody tr th {\n",
       "        vertical-align: top;\n",
       "    }\n",
       "\n",
       "    .dataframe thead th {\n",
       "        text-align: right;\n",
       "    }\n",
       "</style>\n",
       "<table border=\"1\" class=\"dataframe\">\n",
       "  <thead>\n",
       "    <tr style=\"text-align: right;\">\n",
       "      <th></th>\n",
       "      <th>date</th>\n",
       "      <th>sales</th>\n",
       "      <th>onpromotion</th>\n",
       "    </tr>\n",
       "  </thead>\n",
       "  <tbody>\n",
       "    <tr>\n",
       "      <th>0</th>\n",
       "      <td>2013-01-02</td>\n",
       "      <td>30095.181</td>\n",
       "      <td>0</td>\n",
       "    </tr>\n",
       "    <tr>\n",
       "      <th>1</th>\n",
       "      <td>2013-01-03</td>\n",
       "      <td>20447.057</td>\n",
       "      <td>0</td>\n",
       "    </tr>\n",
       "    <tr>\n",
       "      <th>2</th>\n",
       "      <td>2013-01-04</td>\n",
       "      <td>22795.799</td>\n",
       "      <td>0</td>\n",
       "    </tr>\n",
       "    <tr>\n",
       "      <th>3</th>\n",
       "      <td>2013-01-05</td>\n",
       "      <td>31382.508</td>\n",
       "      <td>0</td>\n",
       "    </tr>\n",
       "    <tr>\n",
       "      <th>4</th>\n",
       "      <td>2013-01-06</td>\n",
       "      <td>36069.345</td>\n",
       "      <td>0</td>\n",
       "    </tr>\n",
       "  </tbody>\n",
       "</table>\n",
       "</div>"
      ],
      "text/plain": [
       "        date      sales  onpromotion\n",
       "0 2013-01-02  30095.181            0\n",
       "1 2013-01-03  20447.057            0\n",
       "2 2013-01-04  22795.799            0\n",
       "3 2013-01-05  31382.508            0\n",
       "4 2013-01-06  36069.345            0"
      ]
     },
     "execution_count": 8,
     "metadata": {},
     "output_type": "execute_result"
    }
   ],
   "source": [
    "sales = sales[sales['store_nbr']==44].groupby('date').sum()[['sales','onpromotion']].drop('2013-01-01').reset_index()\n",
    "sales.head()"
   ]
  },
  {
   "cell_type": "code",
   "execution_count": 9,
   "id": "31ebf875",
   "metadata": {},
   "outputs": [
    {
     "data": {
      "image/png": "[encoded data removed]",
      "text/plain": [
       "<Figure size 1000x300 with 1 Axes>"
      ]
     },
     "metadata": {},
     "output_type": "display_data"
    }
   ],
   "source": [
    "plt.figure(figsize=(10,3))\n",
    "plt.plot(sales['date'],sales['sales'])\n",
    "plt.title('sales plot over time')\n",
    "plt.show()"
   ]
  },
  {
   "cell_type": "markdown",
   "id": "582626ca",
   "metadata": {},
   "source": [
    "-------------------\n",
    "the store closes on the first of every year"
   ]
  },
  {
   "cell_type": "code",
   "execution_count": 10,
   "id": "8989a94f",
   "metadata": {},
   "outputs": [
    {
     "data": {
      "text/html": [
       "<div>\n",
       "<style scoped>\n",
       "    .dataframe tbody tr th:only-of-type {\n",
       "        vertical-align: middle;\n",
       "    }\n",
       "\n",
       "    .dataframe tbody tr th {\n",
       "        vertical-align: top;\n",
       "    }\n",
       "\n",
       "    .dataframe thead th {\n",
       "        text-align: right;\n",
       "    }\n",
       "</style>\n",
       "<table border=\"1\" class=\"dataframe\">\n",
       "  <thead>\n",
       "    <tr style=\"text-align: right;\">\n",
       "      <th></th>\n",
       "      <th>date</th>\n",
       "      <th>sales</th>\n",
       "      <th>onpromotion</th>\n",
       "    </tr>\n",
       "  </thead>\n",
       "  <tbody>\n",
       "    <tr>\n",
       "      <th>363</th>\n",
       "      <td>2014-01-01</td>\n",
       "      <td>0.0</td>\n",
       "      <td>0</td>\n",
       "    </tr>\n",
       "    <tr>\n",
       "      <th>727</th>\n",
       "      <td>2015-01-01</td>\n",
       "      <td>0.0</td>\n",
       "      <td>0</td>\n",
       "    </tr>\n",
       "    <tr>\n",
       "      <th>1091</th>\n",
       "      <td>2016-01-01</td>\n",
       "      <td>0.0</td>\n",
       "      <td>0</td>\n",
       "    </tr>\n",
       "    <tr>\n",
       "      <th>1456</th>\n",
       "      <td>2017-01-01</td>\n",
       "      <td>0.0</td>\n",
       "      <td>0</td>\n",
       "    </tr>\n",
       "  </tbody>\n",
       "</table>\n",
       "</div>"
      ],
      "text/plain": [
       "           date  sales  onpromotion\n",
       "363  2014-01-01    0.0            0\n",
       "727  2015-01-01    0.0            0\n",
       "1091 2016-01-01    0.0            0\n",
       "1456 2017-01-01    0.0            0"
      ]
     },
     "execution_count": 10,
     "metadata": {},
     "output_type": "execute_result"
    }
   ],
   "source": [
    "sales[sales['sales']==0]"
   ]
  },
  {
   "cell_type": "markdown",
   "id": "4a941bee",
   "metadata": {},
   "source": [
    "-------------------\n",
    "saturday & sunday have highest sales, followed by monday"
   ]
  },
  {
   "cell_type": "code",
   "execution_count": 11,
   "id": "f659a3c3",
   "metadata": {},
   "outputs": [
    {
     "data": {
      "image/png": "[encoded data removed]",
      "text/plain": [
       "<Figure size 640x480 with 1 Axes>"
      ]
     },
     "metadata": {},
     "output_type": "display_data"
    }
   ],
   "source": [
    "sales['dayofweek'] = sales['date'].dt.dayofweek\n",
    "plt.bar(sales['dayofweek'],sales['sales'])\n",
    "plt.show()\n"
   ]
  },
  {
   "cell_type": "markdown",
   "id": "51a0c1d2",
   "metadata": {},
   "source": [
    "oil price plot over time. there are some missing values which we need to fill"
   ]
  },
  {
   "cell_type": "code",
   "execution_count": 12,
   "id": "3e42f078",
   "metadata": {},
   "outputs": [
    {
     "data": {
      "image/png": "[encoded data removed]",
      "text/plain": [
       "<Figure size 700x200 with 1 Axes>"
      ]
     },
     "metadata": {},
     "output_type": "display_data"
    }
   ],
   "source": [
    "plt.figure(figsize=(7,2))\n",
    "plt.plot(oil['date'],oil['oil_price'])\n",
    "plt.title('oil price plot over time')\n",
    "plt.show()"
   ]
  },
  {
   "cell_type": "markdown",
   "id": "d8a7db7f",
   "metadata": {},
   "source": [
    "merging sales data with oil price data and then filling the missing oil price values"
   ]
  },
  {
   "cell_type": "code",
   "execution_count": 13,
   "id": "6e36c16e",
   "metadata": {},
   "outputs": [],
   "source": [
    "data = pd.merge(left=sales,right=oil,on='date',how='left')\n",
    "data['oil_price'] = data['oil_price'].fillna(method='ffill')"
   ]
  },
  {
   "cell_type": "markdown",
   "id": "c1521b10",
   "metadata": {},
   "source": [
    "holidays table"
   ]
  },
  {
   "cell_type": "code",
   "execution_count": 14,
   "id": "7a655ad3",
   "metadata": {},
   "outputs": [
    {
     "data": {
      "text/html": [
       "<div>\n",
       "<style scoped>\n",
       "    .dataframe tbody tr th:only-of-type {\n",
       "        vertical-align: middle;\n",
       "    }\n",
       "\n",
       "    .dataframe tbody tr th {\n",
       "        vertical-align: top;\n",
       "    }\n",
       "\n",
       "    .dataframe thead th {\n",
       "        text-align: right;\n",
       "    }\n",
       "</style>\n",
       "<table border=\"1\" class=\"dataframe\">\n",
       "  <thead>\n",
       "    <tr style=\"text-align: right;\">\n",
       "      <th></th>\n",
       "      <th>date</th>\n",
       "      <th>type</th>\n",
       "      <th>locale</th>\n",
       "      <th>locale_name</th>\n",
       "      <th>description</th>\n",
       "      <th>transferred</th>\n",
       "    </tr>\n",
       "  </thead>\n",
       "  <tbody>\n",
       "    <tr>\n",
       "      <th>0</th>\n",
       "      <td>2012-03-02</td>\n",
       "      <td>Holiday</td>\n",
       "      <td>Local</td>\n",
       "      <td>Manta</td>\n",
       "      <td>Fundacion de Manta</td>\n",
       "      <td>False</td>\n",
       "    </tr>\n",
       "    <tr>\n",
       "      <th>1</th>\n",
       "      <td>2012-04-01</td>\n",
       "      <td>Holiday</td>\n",
       "      <td>Regional</td>\n",
       "      <td>Cotopaxi</td>\n",
       "      <td>Provincializacion de Cotopaxi</td>\n",
       "      <td>False</td>\n",
       "    </tr>\n",
       "    <tr>\n",
       "      <th>2</th>\n",
       "      <td>2012-04-12</td>\n",
       "      <td>Holiday</td>\n",
       "      <td>Local</td>\n",
       "      <td>Cuenca</td>\n",
       "      <td>Fundacion de Cuenca</td>\n",
       "      <td>False</td>\n",
       "    </tr>\n",
       "    <tr>\n",
       "      <th>3</th>\n",
       "      <td>2012-04-14</td>\n",
       "      <td>Holiday</td>\n",
       "      <td>Local</td>\n",
       "      <td>Libertad</td>\n",
       "      <td>Cantonizacion de Libertad</td>\n",
       "      <td>False</td>\n",
       "    </tr>\n",
       "    <tr>\n",
       "      <th>4</th>\n",
       "      <td>2012-04-21</td>\n",
       "      <td>Holiday</td>\n",
       "      <td>Local</td>\n",
       "      <td>Riobamba</td>\n",
       "      <td>Cantonizacion de Riobamba</td>\n",
       "      <td>False</td>\n",
       "    </tr>\n",
       "  </tbody>\n",
       "</table>\n",
       "</div>"
      ],
      "text/plain": [
       "        date     type    locale locale_name                    description  \\\n",
       "0 2012-03-02  Holiday     Local       Manta             Fundacion de Manta   \n",
       "1 2012-04-01  Holiday  Regional    Cotopaxi  Provincializacion de Cotopaxi   \n",
       "2 2012-04-12  Holiday     Local      Cuenca            Fundacion de Cuenca   \n",
       "3 2012-04-14  Holiday     Local    Libertad      Cantonizacion de Libertad   \n",
       "4 2012-04-21  Holiday     Local    Riobamba      Cantonizacion de Riobamba   \n",
       "\n",
       "   transferred  \n",
       "0        False  \n",
       "1        False  \n",
       "2        False  \n",
       "3        False  \n",
       "4        False  "
      ]
     },
     "execution_count": 14,
     "metadata": {},
     "output_type": "execute_result"
    }
   ],
   "source": [
    "holidays.head()"
   ]
  },
  {
   "cell_type": "markdown",
   "id": "e093d77e",
   "metadata": {},
   "source": [
    "now we need to take care of the holidays table by one-hot encoding the categorical features"
   ]
  },
  {
   "cell_type": "code",
   "execution_count": 15,
   "id": "2998c447",
   "metadata": {},
   "outputs": [
    {
     "data": {
      "text/html": [
       "<div>\n",
       "<style scoped>\n",
       "    .dataframe tbody tr th:only-of-type {\n",
       "        vertical-align: middle;\n",
       "    }\n",
       "\n",
       "    .dataframe tbody tr th {\n",
       "        vertical-align: top;\n",
       "    }\n",
       "\n",
       "    .dataframe thead th {\n",
       "        text-align: right;\n",
       "    }\n",
       "</style>\n",
       "<table border=\"1\" class=\"dataframe\">\n",
       "  <thead>\n",
       "    <tr style=\"text-align: right;\">\n",
       "      <th></th>\n",
       "      <th>date</th>\n",
       "      <th>transferred</th>\n",
       "      <th>type_Additional</th>\n",
       "      <th>type_Bridge</th>\n",
       "      <th>type_Event</th>\n",
       "      <th>type_Holiday</th>\n",
       "      <th>type_Transfer</th>\n",
       "      <th>type_Work Day</th>\n",
       "      <th>locale_Local</th>\n",
       "      <th>locale_National</th>\n",
       "      <th>...</th>\n",
       "      <th>locale_name_Machala</th>\n",
       "      <th>locale_name_Manta</th>\n",
       "      <th>locale_name_Puyo</th>\n",
       "      <th>locale_name_Quevedo</th>\n",
       "      <th>locale_name_Quito</th>\n",
       "      <th>locale_name_Riobamba</th>\n",
       "      <th>locale_name_Salinas</th>\n",
       "      <th>locale_name_Santa Elena</th>\n",
       "      <th>locale_name_Santo Domingo</th>\n",
       "      <th>locale_name_Santo Domingo de los Tsachilas</th>\n",
       "    </tr>\n",
       "  </thead>\n",
       "  <tbody>\n",
       "    <tr>\n",
       "      <th>0</th>\n",
       "      <td>2012-03-02</td>\n",
       "      <td>0.0</td>\n",
       "      <td>0.0</td>\n",
       "      <td>0.0</td>\n",
       "      <td>0.0</td>\n",
       "      <td>1.0</td>\n",
       "      <td>0.0</td>\n",
       "      <td>0.0</td>\n",
       "      <td>1.0</td>\n",
       "      <td>0.0</td>\n",
       "      <td>...</td>\n",
       "      <td>0.0</td>\n",
       "      <td>1.0</td>\n",
       "      <td>0.0</td>\n",
       "      <td>0.0</td>\n",
       "      <td>0.0</td>\n",
       "      <td>0.0</td>\n",
       "      <td>0.0</td>\n",
       "      <td>0.0</td>\n",
       "      <td>0.0</td>\n",
       "      <td>0.0</td>\n",
       "    </tr>\n",
       "    <tr>\n",
       "      <th>1</th>\n",
       "      <td>2012-04-01</td>\n",
       "      <td>0.0</td>\n",
       "      <td>0.0</td>\n",
       "      <td>0.0</td>\n",
       "      <td>0.0</td>\n",
       "      <td>1.0</td>\n",
       "      <td>0.0</td>\n",
       "      <td>0.0</td>\n",
       "      <td>0.0</td>\n",
       "      <td>0.0</td>\n",
       "      <td>...</td>\n",
       "      <td>0.0</td>\n",
       "      <td>0.0</td>\n",
       "      <td>0.0</td>\n",
       "      <td>0.0</td>\n",
       "      <td>0.0</td>\n",
       "      <td>0.0</td>\n",
       "      <td>0.0</td>\n",
       "      <td>0.0</td>\n",
       "      <td>0.0</td>\n",
       "      <td>0.0</td>\n",
       "    </tr>\n",
       "    <tr>\n",
       "      <th>2</th>\n",
       "      <td>2012-04-12</td>\n",
       "      <td>0.0</td>\n",
       "      <td>0.0</td>\n",
       "      <td>0.0</td>\n",
       "      <td>0.0</td>\n",
       "      <td>1.0</td>\n",
       "      <td>0.0</td>\n",
       "      <td>0.0</td>\n",
       "      <td>1.0</td>\n",
       "      <td>0.0</td>\n",
       "      <td>...</td>\n",
       "      <td>0.0</td>\n",
       "      <td>0.0</td>\n",
       "      <td>0.0</td>\n",
       "      <td>0.0</td>\n",
       "      <td>0.0</td>\n",
       "      <td>0.0</td>\n",
       "      <td>0.0</td>\n",
       "      <td>0.0</td>\n",
       "      <td>0.0</td>\n",
       "      <td>0.0</td>\n",
       "    </tr>\n",
       "    <tr>\n",
       "      <th>3</th>\n",
       "      <td>2012-04-14</td>\n",
       "      <td>0.0</td>\n",
       "      <td>0.0</td>\n",
       "      <td>0.0</td>\n",
       "      <td>0.0</td>\n",
       "      <td>1.0</td>\n",
       "      <td>0.0</td>\n",
       "      <td>0.0</td>\n",
       "      <td>1.0</td>\n",
       "      <td>0.0</td>\n",
       "      <td>...</td>\n",
       "      <td>0.0</td>\n",
       "      <td>0.0</td>\n",
       "      <td>0.0</td>\n",
       "      <td>0.0</td>\n",
       "      <td>0.0</td>\n",
       "      <td>0.0</td>\n",
       "      <td>0.0</td>\n",
       "      <td>0.0</td>\n",
       "      <td>0.0</td>\n",
       "      <td>0.0</td>\n",
       "    </tr>\n",
       "    <tr>\n",
       "      <th>4</th>\n",
       "      <td>2012-04-21</td>\n",
       "      <td>0.0</td>\n",
       "      <td>0.0</td>\n",
       "      <td>0.0</td>\n",
       "      <td>0.0</td>\n",
       "      <td>1.0</td>\n",
       "      <td>0.0</td>\n",
       "      <td>0.0</td>\n",
       "      <td>1.0</td>\n",
       "      <td>0.0</td>\n",
       "      <td>...</td>\n",
       "      <td>0.0</td>\n",
       "      <td>0.0</td>\n",
       "      <td>0.0</td>\n",
       "      <td>0.0</td>\n",
       "      <td>0.0</td>\n",
       "      <td>1.0</td>\n",
       "      <td>0.0</td>\n",
       "      <td>0.0</td>\n",
       "      <td>0.0</td>\n",
       "      <td>0.0</td>\n",
       "    </tr>\n",
       "  </tbody>\n",
       "</table>\n",
       "<p>5 rows × 35 columns</p>\n",
       "</div>"
      ],
      "text/plain": [
       "        date  transferred  type_Additional  type_Bridge  type_Event  \\\n",
       "0 2012-03-02          0.0              0.0          0.0         0.0   \n",
       "1 2012-04-01          0.0              0.0          0.0         0.0   \n",
       "2 2012-04-12          0.0              0.0          0.0         0.0   \n",
       "3 2012-04-14          0.0              0.0          0.0         0.0   \n",
       "4 2012-04-21          0.0              0.0          0.0         0.0   \n",
       "\n",
       "   type_Holiday  type_Transfer  type_Work Day  locale_Local  locale_National  \\\n",
       "0           1.0            0.0            0.0           1.0              0.0   \n",
       "1           1.0            0.0            0.0           0.0              0.0   \n",
       "2           1.0            0.0            0.0           1.0              0.0   \n",
       "3           1.0            0.0            0.0           1.0              0.0   \n",
       "4           1.0            0.0            0.0           1.0              0.0   \n",
       "\n",
       "   ...  locale_name_Machala  locale_name_Manta  locale_name_Puyo  \\\n",
       "0  ...                  0.0                1.0               0.0   \n",
       "1  ...                  0.0                0.0               0.0   \n",
       "2  ...                  0.0                0.0               0.0   \n",
       "3  ...                  0.0                0.0               0.0   \n",
       "4  ...                  0.0                0.0               0.0   \n",
       "\n",
       "   locale_name_Quevedo  locale_name_Quito  locale_name_Riobamba  \\\n",
       "0                  0.0                0.0                   0.0   \n",
       "1                  0.0                0.0                   0.0   \n",
       "2                  0.0                0.0                   0.0   \n",
       "3                  0.0                0.0                   0.0   \n",
       "4                  0.0                0.0                   1.0   \n",
       "\n",
       "   locale_name_Salinas  locale_name_Santa Elena  locale_name_Santo Domingo  \\\n",
       "0                  0.0                      0.0                        0.0   \n",
       "1                  0.0                      0.0                        0.0   \n",
       "2                  0.0                      0.0                        0.0   \n",
       "3                  0.0                      0.0                        0.0   \n",
       "4                  0.0                      0.0                        0.0   \n",
       "\n",
       "   locale_name_Santo Domingo de los Tsachilas  \n",
       "0                                         0.0  \n",
       "1                                         0.0  \n",
       "2                                         0.0  \n",
       "3                                         0.0  \n",
       "4                                         0.0  \n",
       "\n",
       "[5 rows x 35 columns]"
      ]
     },
     "execution_count": 15,
     "metadata": {},
     "output_type": "execute_result"
    }
   ],
   "source": [
    "holidays_one_hot = pd.concat([\n",
    "    holidays['date'],\n",
    "    pd.get_dummies(holidays[['type','locale','locale_name','transferred']])    \n",
    "], axis=1)\n",
    "\n",
    "holidays_one_hot = holidays_one_hot.groupby('date').mean().reset_index()\n",
    "\n",
    "holidays_one_hot.head()"
   ]
  },
  {
   "cell_type": "code",
   "execution_count": 16,
   "id": "e7fb6303",
   "metadata": {},
   "outputs": [
    {
     "data": {
      "text/html": [
       "<div>\n",
       "<style scoped>\n",
       "    .dataframe tbody tr th:only-of-type {\n",
       "        vertical-align: middle;\n",
       "    }\n",
       "\n",
       "    .dataframe tbody tr th {\n",
       "        vertical-align: top;\n",
       "    }\n",
       "\n",
       "    .dataframe thead th {\n",
       "        text-align: right;\n",
       "    }\n",
       "</style>\n",
       "<table border=\"1\" class=\"dataframe\">\n",
       "  <thead>\n",
       "    <tr style=\"text-align: right;\">\n",
       "      <th></th>\n",
       "      <th>date</th>\n",
       "      <th>sales</th>\n",
       "      <th>onpromotion</th>\n",
       "      <th>dayofweek</th>\n",
       "      <th>oil_price</th>\n",
       "      <th>type_Additional</th>\n",
       "      <th>type_Bridge</th>\n",
       "      <th>type_Event</th>\n",
       "      <th>type_Holiday</th>\n",
       "      <th>type_Transfer</th>\n",
       "      <th>...</th>\n",
       "      <th>locale_name_Quevedo</th>\n",
       "      <th>locale_name_Quito</th>\n",
       "      <th>locale_name_Riobamba</th>\n",
       "      <th>locale_name_Salinas</th>\n",
       "      <th>locale_name_Santa Elena</th>\n",
       "      <th>locale_name_Santo Domingo</th>\n",
       "      <th>locale_name_Santo Domingo de los Tsachilas</th>\n",
       "      <th>N/A transferred</th>\n",
       "      <th>is transferred</th>\n",
       "      <th>not transferred</th>\n",
       "    </tr>\n",
       "  </thead>\n",
       "  <tbody>\n",
       "    <tr>\n",
       "      <th>0</th>\n",
       "      <td>2013-01-02</td>\n",
       "      <td>30095.181</td>\n",
       "      <td>0</td>\n",
       "      <td>2</td>\n",
       "      <td>93.14</td>\n",
       "      <td>0.0</td>\n",
       "      <td>0.0</td>\n",
       "      <td>0.0</td>\n",
       "      <td>0.0</td>\n",
       "      <td>0.0</td>\n",
       "      <td>...</td>\n",
       "      <td>0.0</td>\n",
       "      <td>0.0</td>\n",
       "      <td>0.0</td>\n",
       "      <td>0.0</td>\n",
       "      <td>0.0</td>\n",
       "      <td>0.0</td>\n",
       "      <td>0.0</td>\n",
       "      <td>1</td>\n",
       "      <td>0</td>\n",
       "      <td>0</td>\n",
       "    </tr>\n",
       "    <tr>\n",
       "      <th>1</th>\n",
       "      <td>2013-01-03</td>\n",
       "      <td>20447.057</td>\n",
       "      <td>0</td>\n",
       "      <td>3</td>\n",
       "      <td>92.97</td>\n",
       "      <td>0.0</td>\n",
       "      <td>0.0</td>\n",
       "      <td>0.0</td>\n",
       "      <td>0.0</td>\n",
       "      <td>0.0</td>\n",
       "      <td>...</td>\n",
       "      <td>0.0</td>\n",
       "      <td>0.0</td>\n",
       "      <td>0.0</td>\n",
       "      <td>0.0</td>\n",
       "      <td>0.0</td>\n",
       "      <td>0.0</td>\n",
       "      <td>0.0</td>\n",
       "      <td>1</td>\n",
       "      <td>0</td>\n",
       "      <td>0</td>\n",
       "    </tr>\n",
       "    <tr>\n",
       "      <th>2</th>\n",
       "      <td>2013-01-04</td>\n",
       "      <td>22795.799</td>\n",
       "      <td>0</td>\n",
       "      <td>4</td>\n",
       "      <td>93.12</td>\n",
       "      <td>0.0</td>\n",
       "      <td>0.0</td>\n",
       "      <td>0.0</td>\n",
       "      <td>0.0</td>\n",
       "      <td>0.0</td>\n",
       "      <td>...</td>\n",
       "      <td>0.0</td>\n",
       "      <td>0.0</td>\n",
       "      <td>0.0</td>\n",
       "      <td>0.0</td>\n",
       "      <td>0.0</td>\n",
       "      <td>0.0</td>\n",
       "      <td>0.0</td>\n",
       "      <td>1</td>\n",
       "      <td>0</td>\n",
       "      <td>0</td>\n",
       "    </tr>\n",
       "    <tr>\n",
       "      <th>3</th>\n",
       "      <td>2013-01-05</td>\n",
       "      <td>31382.508</td>\n",
       "      <td>0</td>\n",
       "      <td>5</td>\n",
       "      <td>93.12</td>\n",
       "      <td>0.0</td>\n",
       "      <td>0.0</td>\n",
       "      <td>0.0</td>\n",
       "      <td>0.0</td>\n",
       "      <td>0.0</td>\n",
       "      <td>...</td>\n",
       "      <td>0.0</td>\n",
       "      <td>0.0</td>\n",
       "      <td>0.0</td>\n",
       "      <td>0.0</td>\n",
       "      <td>0.0</td>\n",
       "      <td>0.0</td>\n",
       "      <td>0.0</td>\n",
       "      <td>0</td>\n",
       "      <td>0</td>\n",
       "      <td>1</td>\n",
       "    </tr>\n",
       "    <tr>\n",
       "      <th>4</th>\n",
       "      <td>2013-01-06</td>\n",
       "      <td>36069.345</td>\n",
       "      <td>0</td>\n",
       "      <td>6</td>\n",
       "      <td>93.12</td>\n",
       "      <td>0.0</td>\n",
       "      <td>0.0</td>\n",
       "      <td>0.0</td>\n",
       "      <td>0.0</td>\n",
       "      <td>0.0</td>\n",
       "      <td>...</td>\n",
       "      <td>0.0</td>\n",
       "      <td>0.0</td>\n",
       "      <td>0.0</td>\n",
       "      <td>0.0</td>\n",
       "      <td>0.0</td>\n",
       "      <td>0.0</td>\n",
       "      <td>0.0</td>\n",
       "      <td>1</td>\n",
       "      <td>0</td>\n",
       "      <td>0</td>\n",
       "    </tr>\n",
       "  </tbody>\n",
       "</table>\n",
       "<p>5 rows × 41 columns</p>\n",
       "</div>"
      ],
      "text/plain": [
       "        date      sales  onpromotion  dayofweek  oil_price  type_Additional  \\\n",
       "0 2013-01-02  30095.181            0          2      93.14              0.0   \n",
       "1 2013-01-03  20447.057            0          3      92.97              0.0   \n",
       "2 2013-01-04  22795.799            0          4      93.12              0.0   \n",
       "3 2013-01-05  31382.508            0          5      93.12              0.0   \n",
       "4 2013-01-06  36069.345            0          6      93.12              0.0   \n",
       "\n",
       "   type_Bridge  type_Event  type_Holiday  type_Transfer  ...  \\\n",
       "0          0.0         0.0           0.0            0.0  ...   \n",
       "1          0.0         0.0           0.0            0.0  ...   \n",
       "2          0.0         0.0           0.0            0.0  ...   \n",
       "3          0.0         0.0           0.0            0.0  ...   \n",
       "4          0.0         0.0           0.0            0.0  ...   \n",
       "\n",
       "   locale_name_Quevedo  locale_name_Quito  locale_name_Riobamba  \\\n",
       "0                  0.0                0.0                   0.0   \n",
       "1                  0.0                0.0                   0.0   \n",
       "2                  0.0                0.0                   0.0   \n",
       "3                  0.0                0.0                   0.0   \n",
       "4                  0.0                0.0                   0.0   \n",
       "\n",
       "   locale_name_Salinas  locale_name_Santa Elena  locale_name_Santo Domingo  \\\n",
       "0                  0.0                      0.0                        0.0   \n",
       "1                  0.0                      0.0                        0.0   \n",
       "2                  0.0                      0.0                        0.0   \n",
       "3                  0.0                      0.0                        0.0   \n",
       "4                  0.0                      0.0                        0.0   \n",
       "\n",
       "   locale_name_Santo Domingo de los Tsachilas  N/A transferred  \\\n",
       "0                                         0.0                1   \n",
       "1                                         0.0                1   \n",
       "2                                         0.0                1   \n",
       "3                                         0.0                0   \n",
       "4                                         0.0                1   \n",
       "\n",
       "   is transferred  not transferred  \n",
       "0               0                0  \n",
       "1               0                0  \n",
       "2               0                0  \n",
       "3               0                1  \n",
       "4               0                0  \n",
       "\n",
       "[5 rows x 41 columns]"
      ]
     },
     "execution_count": 16,
     "metadata": {},
     "output_type": "execute_result"
    }
   ],
   "source": [
    "# merge the current data with the holidays data\n",
    "data = pd.merge(left=data,right=holidays_one_hot,on='date',how='left')\n",
    "\n",
    "def map_func(x):\n",
    "    if x<0.5: \n",
    "        return 'not transferred' \n",
    "    elif x>=0.5:\n",
    "        return 'is transferred'\n",
    "    else:\n",
    "        return 'N/A transferred'\n",
    "\n",
    "# converting the transfered column from numerical to categorical\n",
    "temp = pd.get_dummies(\n",
    "    data['transferred'].map(map_func)\n",
    ")\n",
    "\n",
    "# concat the data\n",
    "data = pd.concat([data,temp],axis=1)\n",
    "\n",
    "# drop the original transferred column\n",
    "data = data.drop('transferred',axis=1)\n",
    "\n",
    "# fill null values with zero\n",
    "data.fillna(0,inplace=True)\n",
    "data.head()"
   ]
  },
  {
   "cell_type": "code",
   "execution_count": 17,
   "id": "c99492ed",
   "metadata": {},
   "outputs": [],
   "source": [
    "# one-hot encode the day of week and then drop the original variable \n",
    "data = pd.concat([\n",
    "    data,\n",
    "    pd.get_dummies(data['dayofweek'], 'dow')],\n",
    "    axis=1\n",
    ").drop('dayofweek',axis=1)"
   ]
  },
  {
   "cell_type": "code",
   "execution_count": 18,
   "id": "62c80f70",
   "metadata": {},
   "outputs": [
    {
     "data": {
      "text/html": [
       "<div>\n",
       "<style scoped>\n",
       "    .dataframe tbody tr th:only-of-type {\n",
       "        vertical-align: middle;\n",
       "    }\n",
       "\n",
       "    .dataframe tbody tr th {\n",
       "        vertical-align: top;\n",
       "    }\n",
       "\n",
       "    .dataframe thead th {\n",
       "        text-align: right;\n",
       "    }\n",
       "</style>\n",
       "<table border=\"1\" class=\"dataframe\">\n",
       "  <thead>\n",
       "    <tr style=\"text-align: right;\">\n",
       "      <th></th>\n",
       "      <th>sales</th>\n",
       "    </tr>\n",
       "  </thead>\n",
       "  <tbody>\n",
       "    <tr>\n",
       "      <th>sales</th>\n",
       "      <td>1.000000</td>\n",
       "    </tr>\n",
       "    <tr>\n",
       "      <th>onpromotion</th>\n",
       "      <td>0.440395</td>\n",
       "    </tr>\n",
       "    <tr>\n",
       "      <th>oil_price</th>\n",
       "      <td>-0.477437</td>\n",
       "    </tr>\n",
       "    <tr>\n",
       "      <th>type_Additional</th>\n",
       "      <td>0.079034</td>\n",
       "    </tr>\n",
       "    <tr>\n",
       "      <th>type_Bridge</th>\n",
       "      <td>0.019023</td>\n",
       "    </tr>\n",
       "    <tr>\n",
       "      <th>type_Event</th>\n",
       "      <td>0.080373</td>\n",
       "    </tr>\n",
       "    <tr>\n",
       "      <th>type_Holiday</th>\n",
       "      <td>0.007296</td>\n",
       "    </tr>\n",
       "    <tr>\n",
       "      <th>type_Transfer</th>\n",
       "      <td>0.054969</td>\n",
       "    </tr>\n",
       "    <tr>\n",
       "      <th>type_Work Day</th>\n",
       "      <td>0.013604</td>\n",
       "    </tr>\n",
       "    <tr>\n",
       "      <th>locale_Local</th>\n",
       "      <td>0.002297</td>\n",
       "    </tr>\n",
       "    <tr>\n",
       "      <th>locale_National</th>\n",
       "      <td>0.105184</td>\n",
       "    </tr>\n",
       "    <tr>\n",
       "      <th>locale_Regional</th>\n",
       "      <td>0.032084</td>\n",
       "    </tr>\n",
       "    <tr>\n",
       "      <th>locale_name_Ambato</th>\n",
       "      <td>0.010745</td>\n",
       "    </tr>\n",
       "    <tr>\n",
       "      <th>locale_name_Cayambe</th>\n",
       "      <td>0.010623</td>\n",
       "    </tr>\n",
       "    <tr>\n",
       "      <th>locale_name_Cotopaxi</th>\n",
       "      <td>0.018332</td>\n",
       "    </tr>\n",
       "    <tr>\n",
       "      <th>locale_name_Cuenca</th>\n",
       "      <td>-0.015419</td>\n",
       "    </tr>\n",
       "    <tr>\n",
       "      <th>locale_name_Ecuador</th>\n",
       "      <td>0.105184</td>\n",
       "    </tr>\n",
       "    <tr>\n",
       "      <th>locale_name_El Carmen</th>\n",
       "      <td>0.021022</td>\n",
       "    </tr>\n",
       "    <tr>\n",
       "      <th>locale_name_Esmeraldas</th>\n",
       "      <td>-0.005941</td>\n",
       "    </tr>\n",
       "    <tr>\n",
       "      <th>locale_name_Guaranda</th>\n",
       "      <td>-0.013244</td>\n",
       "    </tr>\n",
       "    <tr>\n",
       "      <th>locale_name_Guayaquil</th>\n",
       "      <td>-0.006843</td>\n",
       "    </tr>\n",
       "    <tr>\n",
       "      <th>locale_name_Ibarra</th>\n",
       "      <td>0.022100</td>\n",
       "    </tr>\n",
       "    <tr>\n",
       "      <th>locale_name_Imbabura</th>\n",
       "      <td>-0.006564</td>\n",
       "    </tr>\n",
       "    <tr>\n",
       "      <th>locale_name_Latacunga</th>\n",
       "      <td>-0.007579</td>\n",
       "    </tr>\n",
       "    <tr>\n",
       "      <th>locale_name_Libertad</th>\n",
       "      <td>-0.034256</td>\n",
       "    </tr>\n",
       "    <tr>\n",
       "      <th>locale_name_Loja</th>\n",
       "      <td>0.008253</td>\n",
       "    </tr>\n",
       "    <tr>\n",
       "      <th>locale_name_Machala</th>\n",
       "      <td>-0.006564</td>\n",
       "    </tr>\n",
       "    <tr>\n",
       "      <th>locale_name_Manta</th>\n",
       "      <td>0.005016</td>\n",
       "    </tr>\n",
       "    <tr>\n",
       "      <th>locale_name_Puyo</th>\n",
       "      <td>-0.032636</td>\n",
       "    </tr>\n",
       "    <tr>\n",
       "      <th>locale_name_Quevedo</th>\n",
       "      <td>-0.003227</td>\n",
       "    </tr>\n",
       "    <tr>\n",
       "      <th>locale_name_Quito</th>\n",
       "      <td>0.042715</td>\n",
       "    </tr>\n",
       "    <tr>\n",
       "      <th>locale_name_Riobamba</th>\n",
       "      <td>-0.017088</td>\n",
       "    </tr>\n",
       "    <tr>\n",
       "      <th>locale_name_Salinas</th>\n",
       "      <td>0.052677</td>\n",
       "    </tr>\n",
       "    <tr>\n",
       "      <th>locale_name_Santa Elena</th>\n",
       "      <td>0.023304</td>\n",
       "    </tr>\n",
       "    <tr>\n",
       "      <th>locale_name_Santo Domingo</th>\n",
       "      <td>0.021022</td>\n",
       "    </tr>\n",
       "    <tr>\n",
       "      <th>locale_name_Santo Domingo de los Tsachilas</th>\n",
       "      <td>0.017294</td>\n",
       "    </tr>\n",
       "    <tr>\n",
       "      <th>N/A transferred</th>\n",
       "      <td>-0.089415</td>\n",
       "    </tr>\n",
       "    <tr>\n",
       "      <th>is transferred</th>\n",
       "      <td>-0.037682</td>\n",
       "    </tr>\n",
       "    <tr>\n",
       "      <th>not transferred</th>\n",
       "      <td>0.098610</td>\n",
       "    </tr>\n",
       "    <tr>\n",
       "      <th>dow_0</th>\n",
       "      <td>-0.106353</td>\n",
       "    </tr>\n",
       "    <tr>\n",
       "      <th>dow_1</th>\n",
       "      <td>-0.190094</td>\n",
       "    </tr>\n",
       "    <tr>\n",
       "      <th>dow_2</th>\n",
       "      <td>-0.020479</td>\n",
       "    </tr>\n",
       "    <tr>\n",
       "      <th>dow_3</th>\n",
       "      <td>-0.273666</td>\n",
       "    </tr>\n",
       "    <tr>\n",
       "      <th>dow_4</th>\n",
       "      <td>-0.083621</td>\n",
       "    </tr>\n",
       "    <tr>\n",
       "      <th>dow_5</th>\n",
       "      <td>0.302237</td>\n",
       "    </tr>\n",
       "    <tr>\n",
       "      <th>dow_6</th>\n",
       "      <td>0.371967</td>\n",
       "    </tr>\n",
       "  </tbody>\n",
       "</table>\n",
       "</div>"
      ],
      "text/plain": [
       "                                               sales\n",
       "sales                                       1.000000\n",
       "onpromotion                                 0.440395\n",
       "oil_price                                  -0.477437\n",
       "type_Additional                             0.079034\n",
       "type_Bridge                                 0.019023\n",
       "type_Event                                  0.080373\n",
       "type_Holiday                                0.007296\n",
       "type_Transfer                               0.054969\n",
       "type_Work Day                               0.013604\n",
       "locale_Local                                0.002297\n",
       "locale_National                             0.105184\n",
       "locale_Regional                             0.032084\n",
       "locale_name_Ambato                          0.010745\n",
       "locale_name_Cayambe                         0.010623\n",
       "locale_name_Cotopaxi                        0.018332\n",
       "locale_name_Cuenca                         -0.015419\n",
       "locale_name_Ecuador                         0.105184\n",
       "locale_name_El Carmen                       0.021022\n",
       "locale_name_Esmeraldas                     -0.005941\n",
       "locale_name_Guaranda                       -0.013244\n",
       "locale_name_Guayaquil                      -0.006843\n",
       "locale_name_Ibarra                          0.022100\n",
       "locale_name_Imbabura                       -0.006564\n",
       "locale_name_Latacunga                      -0.007579\n",
       "locale_name_Libertad                       -0.034256\n",
       "locale_name_Loja                            0.008253\n",
       "locale_name_Machala                        -0.006564\n",
       "locale_name_Manta                           0.005016\n",
       "locale_name_Puyo                           -0.032636\n",
       "locale_name_Quevedo                        -0.003227\n",
       "locale_name_Quito                           0.042715\n",
       "locale_name_Riobamba                       -0.017088\n",
       "locale_name_Salinas                         0.052677\n",
       "locale_name_Santa Elena                     0.023304\n",
       "locale_name_Santo Domingo                   0.021022\n",
       "locale_name_Santo Domingo de los Tsachilas  0.017294\n",
       "N/A transferred                            -0.089415\n",
       "is transferred                             -0.037682\n",
       "not transferred                             0.098610\n",
       "dow_0                                      -0.106353\n",
       "dow_1                                      -0.190094\n",
       "dow_2                                      -0.020479\n",
       "dow_3                                      -0.273666\n",
       "dow_4                                      -0.083621\n",
       "dow_5                                       0.302237\n",
       "dow_6                                       0.371967"
      ]
     },
     "execution_count": 18,
     "metadata": {},
     "output_type": "execute_result"
    }
   ],
   "source": [
    "# correlation of different variables with sales\n",
    "data.corr()[['sales']]"
   ]
  },
  {
   "cell_type": "markdown",
   "id": "209184c3",
   "metadata": {},
   "source": [
    "### Testing The Effect of Holiday on sales using multiple methods"
   ]
  },
  {
   "cell_type": "markdown",
   "id": "dba2d764",
   "metadata": {},
   "source": [
    "### 9% correlation with very small p-value\n",
    "this means that the holiday variable is important in predicting sales"
   ]
  },
  {
   "cell_type": "code",
   "execution_count": 19,
   "id": "ee9ccdf6",
   "metadata": {},
   "outputs": [
    {
     "data": {
      "text/plain": [
       "(0.08941491761783751, 0.00023988368322658108)"
      ]
     },
     "execution_count": 19,
     "metadata": {},
     "output_type": "execute_result"
    }
   ],
   "source": [
    "is_holiday = (data['N/A transferred']!=1).astype(int)\n",
    "pearsonr(is_holiday,data['sales'])"
   ]
  },
  {
   "cell_type": "code",
   "execution_count": 20,
   "id": "3294ef22",
   "metadata": {},
   "outputs": [],
   "source": [
    "# get the sales data for holidays and regular days separately \n",
    "holiday = data[data['N/A transferred']!=1]['sales'].values\n",
    "regular = data[data['N/A transferred']==1]['sales'].values"
   ]
  },
  {
   "cell_type": "code",
   "execution_count": 21,
   "id": "584ed704",
   "metadata": {},
   "outputs": [
    {
     "data": {
      "text/plain": [
       "(251,)"
      ]
     },
     "execution_count": 21,
     "metadata": {},
     "output_type": "execute_result"
    }
   ],
   "source": [
    "holiday.shape"
   ]
  },
  {
   "cell_type": "markdown",
   "id": "87626f04",
   "metadata": {},
   "source": [
    "### hypothesis testing using repeated sampling\n",
    "we will sample 251 days of regular day sales then get the mean. we will repeat this sampling 10,000 times and see how many times this mean will be above the holiday mean"
   ]
  },
  {
   "cell_type": "code",
   "execution_count": 22,
   "id": "871f14a9",
   "metadata": {},
   "outputs": [],
   "source": [
    "means = np.array([])\n",
    "for i in range(100000):\n",
    "    means = np.append(\n",
    "        means,\n",
    "        np.random.choice(regular,251).mean()\n",
    "    )"
   ]
  },
  {
   "cell_type": "code",
   "execution_count": 23,
   "id": "0714735a",
   "metadata": {},
   "outputs": [],
   "source": [
    "# in 99,999 times out of 100,000 the non-holiday mean is less than the holidays sample mean\n",
    "# => p-value 1/100,000 = 1e^-05"
   ]
  },
  {
   "cell_type": "code",
   "execution_count": 24,
   "id": "6905ce8b",
   "metadata": {},
   "outputs": [
    {
     "data": {
      "text/plain": [
       "99999"
      ]
     },
     "execution_count": 24,
     "metadata": {},
     "output_type": "execute_result"
    }
   ],
   "source": [
    "(means<holiday.mean()).sum()"
   ]
  },
  {
   "cell_type": "code",
   "execution_count": 25,
   "id": "7b1aa354",
   "metadata": {},
   "outputs": [
    {
     "data": {
      "text/plain": [
       "908.2497495566623"
      ]
     },
     "execution_count": 25,
     "metadata": {},
     "output_type": "execute_result"
    }
   ],
   "source": [
    "# based on the 10,000 repeated samples, here is the standard deviation of sample means\n",
    "means.std()"
   ]
  },
  {
   "cell_type": "markdown",
   "id": "fd0b6150",
   "metadata": {},
   "source": [
    "sample mean from regular days should have a standard deviation of std/sqrt(n)"
   ]
  },
  {
   "cell_type": "code",
   "execution_count": 26,
   "id": "d10d7d35",
   "metadata": {},
   "outputs": [
    {
     "data": {
      "text/plain": [
       "911.4948657356672"
      ]
     },
     "execution_count": 26,
     "metadata": {},
     "output_type": "execute_result"
    }
   ],
   "source": [
    "std = regular.std()/np.sqrt(len(holiday))\n",
    "std"
   ]
  },
  {
   "cell_type": "markdown",
   "id": "4b786b8d",
   "metadata": {},
   "source": [
    "### hypothesis testing using a z-test method"
   ]
  },
  {
   "cell_type": "code",
   "execution_count": 27,
   "id": "3007a4a0",
   "metadata": {},
   "outputs": [
    {
     "name": "stdout",
     "output_type": "stream",
     "text": [
      "z-value= 4.041749337875318\n",
      "p-value= 2.6526964066020398e-05\n"
     ]
    }
   ],
   "source": [
    "z_value = ( holiday.mean() - regular.mean() ) / std\n",
    "print('z-value=',z_value)\n",
    "print('p-value=',1-norm.cdf(z_value))"
   ]
  },
  {
   "cell_type": "markdown",
   "id": "9a798524",
   "metadata": {},
   "source": [
    "## Conclusion:\n",
    "we find that all methods lead to the same conclusion which is that holidays has a significant effect on sales\n",
    "\n",
    "------------------------"
   ]
  },
  {
   "cell_type": "markdown",
   "id": "a1638530",
   "metadata": {},
   "source": [
    "----------------------"
   ]
  },
  {
   "cell_type": "markdown",
   "id": "89477781",
   "metadata": {},
   "source": [
    "### Dickey Fuller Stationarity Test"
   ]
  },
  {
   "cell_type": "code",
   "execution_count": 28,
   "id": "99993a99",
   "metadata": {},
   "outputs": [
    {
     "data": {
      "image/png": "[encoded data removed]",
      "text/plain": [
       "<Figure size 1200x200 with 1 Axes>"
      ]
     },
     "metadata": {},
     "output_type": "display_data"
    }
   ],
   "source": [
    "plt.figure(figsize=(12,2))\n",
    "plt.plot(data['sales'])\n",
    "plt.title('sales over time')\n",
    "plt.show()"
   ]
  },
  {
   "cell_type": "code",
   "execution_count": 29,
   "id": "771a5b7f",
   "metadata": {},
   "outputs": [
    {
     "name": "stdout",
     "output_type": "stream",
     "text": [
      "ADF Statistic: -2.944131\n",
      "p-value: 0.040452\n",
      "stationary\n",
      "-------------------\n",
      "ADF Statistic: -0.875857\n",
      "p-value: 0.795819\n",
      "not stationary\n"
     ]
    }
   ],
   "source": [
    "result = adfuller(data['sales'])\n",
    "print('ADF Statistic: %f' % result[0])\n",
    "print('p-value: %f' % result[1])\n",
    "if result[1] < 0.05:\n",
    "    print('stationary')\n",
    "else:\n",
    "    print('not stationary')\n",
    "\n",
    "print('-------------------')\n",
    "\n",
    "result = adfuller(data['oil_price'])\n",
    "print('ADF Statistic: %f' % result[0])\n",
    "print('p-value: %f' % result[1])\n",
    "if result[1] < 0.05:\n",
    "    print('stationary')\n",
    "else:\n",
    "    print('not stationary')"
   ]
  },
  {
   "cell_type": "markdown",
   "id": "196c4b6e",
   "metadata": {},
   "source": [
    "based on the above results, we find that sales data is stationary, but oil prices are not\n",
    "\n",
    "-----------------"
   ]
  },
  {
   "cell_type": "markdown",
   "id": "4b2e1662",
   "metadata": {},
   "source": [
    "### auto correlation plot\n",
    "there is a clear weekly seasonality"
   ]
  },
  {
   "cell_type": "code",
   "execution_count": 30,
   "id": "680b8737",
   "metadata": {},
   "outputs": [
    {
     "data": {
      "image/png": "[encoded data removed]",
      "text/plain": [
       "<Figure size 640x480 with 1 Axes>"
      ]
     },
     "execution_count": 30,
     "metadata": {},
     "output_type": "execute_result"
    }
   ],
   "source": [
    "plot_acf(data['sales'])"
   ]
  },
  {
   "cell_type": "code",
   "execution_count": 31,
   "id": "b8228630",
   "metadata": {},
   "outputs": [
    {
     "name": "stderr",
     "output_type": "stream",
     "text": [
      "C:\\Users\\ahmed.al.2\\Anaconda3\\envs\\AhmedEnv\\lib\\site-packages\\statsmodels\\graphics\\tsaplots.py:348: FutureWarning: The default method 'yw' can produce PACF values outside of the [-1,1] interval. After 0.13, the default will change tounadjusted Yule-Walker ('ywm'). You can use this method now by setting method='ywm'.\n",
      "  warnings.warn(\n"
     ]
    },
    {
     "data": {
      "image/png": "[encoded data removed]",
      "text/plain": [
       "<Figure size 640x480 with 1 Axes>"
      ]
     },
     "execution_count": 31,
     "metadata": {},
     "output_type": "execute_result"
    }
   ],
   "source": [
    "plot_pacf(data['sales'])"
   ]
  },
  {
   "cell_type": "markdown",
   "id": "6c3ec9da",
   "metadata": {},
   "source": [
    "### through experimentation, this is the best result"
   ]
  },
  {
   "cell_type": "code",
   "execution_count": 32,
   "id": "9964260e",
   "metadata": {},
   "outputs": [
    {
     "name": "stderr",
     "output_type": "stream",
     "text": [
      "C:\\Users\\ahmed.al.2\\Anaconda3\\envs\\AhmedEnv\\lib\\site-packages\\statsmodels\\base\\model.py:604: ConvergenceWarning: Maximum Likelihood optimization failed to converge. Check mle_retvals\n",
      "  warnings.warn(\"Maximum Likelihood optimization failed to \"\n"
     ]
    },
    {
     "name": "stdout",
     "output_type": "stream",
     "text": [
      "3753.7711806357925\n"
     ]
    }
   ],
   "source": [
    "# ARIMAX model\n",
    "model = ARIMA(data['sales'],\n",
    "              exog=data[['onpromotion', 'oil_price','type_Additional', 'type_Bridge', 'type_Event', 'type_Holiday',\n",
    "       'type_Transfer','type_Work Day', 'locale_Local', 'locale_National','locale_Regional',\n",
    "                         'dow_0', 'dow_1', 'dow_2',\n",
    "       'dow_3', 'dow_4', 'dow_5', 'dow_6']],\n",
    "              order=(7,0,10),\n",
    "            )\n",
    "\n",
    "# fit model\n",
    "model_fit = model.fit()\n",
    "\n",
    "# predict on the last 100 days\n",
    "pred = model_fit.predict()[-100:]\n",
    "\n",
    "# MAE\n",
    "print(abs(pred-data['sales'].iloc[-100:]).mean())"
   ]
  },
  {
   "cell_type": "code",
   "execution_count": 34,
   "id": "ba15f5d5",
   "metadata": {},
   "outputs": [
    {
     "data": {
      "image/png": "[encoded data removed]",
      "text/plain": [
       "<Figure size 640x480 with 1 Axes>"
      ]
     },
     "metadata": {},
     "output_type": "display_data"
    }
   ],
   "source": [
    "# get number of test days\n",
    "test_days = len(pred)\n",
    "\n",
    "# plot actual sales\n",
    "plt.plot(\n",
    "    data['date'].iloc[-test_days:]\n",
    "    ,data['sales'].iloc[-100:]\n",
    ")\n",
    "\n",
    "# plot predicted sales\n",
    "plt.plot(\n",
    "    data['date'].iloc[-test_days:],\n",
    "    pred\n",
    ")\n",
    "\n",
    "# title and legend\n",
    "plt.title(\n",
    "    f\"MAE: {abs(pred-data['sales'].iloc[-100:]).mean()}\"\n",
    ")\n",
    "\n",
    "plt.legend(['actual','predicted'])\n",
    "plt.show()"
   ]
  },
  {
   "cell_type": "code",
   "execution_count": null,
   "id": "d6cfcebe",
   "metadata": {},
   "outputs": [],
   "source": []
  },
  {
   "cell_type": "code",
   "execution_count": null,
   "id": "815cebc1",
   "metadata": {},
   "outputs": [],
   "source": []
  }
 ],
 "metadata": {
  "kernelspec": {
   "display_name": "Python 3",
   "language": "python",
   "name": "python3"
  },
  "language_info": {
   "codemirror_mode": {
    "name": "ipython",
    "version": 3
   },
   "file_extension": ".py",
   "mimetype": "text/x-python",
   "name": "python",
   "nbconvert_exporter": "python",
   "pygments_lexer": "ipython3",
   "version": "3.9.6"
  }
 },
 "nbformat": 4,
 "nbformat_minor": 5
}
